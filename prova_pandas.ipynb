{
 "cells": [
  {
   "cell_type": "code",
   "execution_count": 1,
   "metadata": {},
   "outputs": [
    {
     "name": "stdout",
     "output_type": "stream",
     "text": [
      "ciao\n"
     ]
    }
   ],
   "source": [
    "import pandas as pd\n",
    "print(\"ciao\")"
   ]
  }
 ],
 "metadata": {
  "interpreter": {
   "hash": "f213f2e7d02ca72a2c832b5fe1d923095c729b8813bfb05f6dd8697f0dc1099f"
  },
  "kernelspec": {
   "display_name": "Python 3.9.7 ('ambienteNTTAnalisi')",
   "language": "python",
   "name": "python3"
  },
  "language_info": {
   "codemirror_mode": {
    "name": "ipython",
    "version": 3
   },
   "file_extension": ".py",
   "mimetype": "text/x-python",
   "name": "python",
   "nbconvert_exporter": "python",
   "pygments_lexer": "ipython3",
   "version": "3.10.0"
  },
  "orig_nbformat": 4
 },
 "nbformat": 4,
 "nbformat_minor": 2
}
